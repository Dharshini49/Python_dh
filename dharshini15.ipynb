{
 "cells": [
  {
   "cell_type": "code",
   "execution_count": 1,
   "id": "ff75b62b-64a9-4831-9af7-031600bb2f78",
   "metadata": {},
   "outputs": [],
   "source": [
    "#strings\n",
    "\n",
    "f_name=\"dharshini\"\n",
    "l_name=\".r\""
   ]
  },
  {
   "cell_type": "code",
   "execution_count": 2,
   "id": "8ad061da-288b-49cb-894a-192cfa01df3e",
   "metadata": {},
   "outputs": [],
   "source": [
    "full_name= f\"{f_name}{l_name}\""
   ]
  },
  {
   "cell_type": "code",
   "execution_count": 3,
   "id": "1edda918-627b-457c-b363-a7d5b3d5a494",
   "metadata": {},
   "outputs": [
    {
     "name": "stdout",
     "output_type": "stream",
     "text": [
      "dharshini.r\n"
     ]
    }
   ],
   "source": [
    "print(full_name)"
   ]
  },
  {
   "cell_type": "code",
   "execution_count": 4,
   "id": "62ee2a67-5369-45f2-a090-221661f3a68e",
   "metadata": {},
   "outputs": [
    {
     "name": "stdout",
     "output_type": "stream",
     "text": [
      "HELLO DHARSHINI.R :)\n"
     ]
    }
   ],
   "source": [
    "print(\"HELLO\",f\"{f_name}{l_name}\".upper(),\":)\")"
   ]
  },
  {
   "cell_type": "code",
   "execution_count": 5,
   "id": "8de4b3fb-1124-49e2-bed9-b1364faac2c1",
   "metadata": {},
   "outputs": [
    {
     "name": "stdout",
     "output_type": "stream",
     "text": [
      "hello!\n"
     ]
    }
   ],
   "source": [
    "#single line ,single quote\n",
    "print('hello!')"
   ]
  },
  {
   "cell_type": "code",
   "execution_count": 6,
   "id": "dd76b906-766e-4864-9080-598076b982ea",
   "metadata": {},
   "outputs": [
    {
     "name": "stdout",
     "output_type": "stream",
     "text": [
      "hello!\n"
     ]
    }
   ],
   "source": [
    "#single line ,double quote\n",
    "print(\"hello!\")"
   ]
  },
  {
   "cell_type": "code",
   "execution_count": 7,
   "id": "10017164-7781-4a97-ad92-1ea1b080c4ba",
   "metadata": {},
   "outputs": [
    {
     "name": "stdout",
     "output_type": "stream",
     "text": [
      "hello!\n",
      "im a student\n",
      "from VIT\n"
     ]
    }
   ],
   "source": [
    "#multi line ,triple quote\n",
    "print('''hello!\n",
    "im a student\n",
    "from VIT''')"
   ]
  },
  {
   "cell_type": "code",
   "execution_count": 8,
   "id": "fd03aaef-4526-410b-8eb5-138bcafaf816",
   "metadata": {},
   "outputs": [
    {
     "name": "stdout",
     "output_type": "stream",
     "text": [
      "Requirement already satisfied: nltk in /home/software/software/lib/python3.12/site-packages (3.8.1)\n",
      "Requirement already satisfied: click in /home/software/software/lib/python3.12/site-packages (from nltk) (8.1.7)\n",
      "Requirement already satisfied: joblib in /home/software/software/lib/python3.12/site-packages (from nltk) (1.4.2)\n",
      "Requirement already satisfied: regex>=2021.8.3 in /home/software/software/lib/python3.12/site-packages (from nltk) (2023.10.3)\n",
      "Requirement already satisfied: tqdm in /home/software/software/lib/python3.12/site-packages (from nltk) (4.66.4)\n"
     ]
    }
   ],
   "source": [
    "!pip install nltk"
   ]
  },
  {
   "cell_type": "code",
   "execution_count": 9,
   "id": "e6953a58-9a59-4b17-9cad-15fafa1f4381",
   "metadata": {},
   "outputs": [
    {
     "name": "stdout",
     "output_type": "stream",
     "text": [
      "Requirement already satisfied: jieba in /home/software/software/lib/python3.12/site-packages (0.42.1)\n"
     ]
    }
   ],
   "source": [
    "!pip install jieba"
   ]
  },
  {
   "cell_type": "code",
   "execution_count": 10,
   "id": "e9e73682-6ea9-482d-80f4-9691c095cc7a",
   "metadata": {},
   "outputs": [],
   "source": [
    "import jieba"
   ]
  },
  {
   "cell_type": "code",
   "execution_count": 11,
   "id": "1d88121e-7466-4693-bcf1-4502d0e168c7",
   "metadata": {},
   "outputs": [],
   "source": [
    "with open('chineseText.txt','r',encoding='utf8') as text:\n",
    "    data=text.read()"
   ]
  },
  {
   "cell_type": "code",
   "execution_count": 12,
   "id": "0d731c20-d8d4-49df-894a-51d04820c84a",
   "metadata": {},
   "outputs": [
    {
     "data": {
      "text/plain": [
       "'美国司法部今天宣布，它已经与新泽西州司法机关达成协议，给英语能力有限（LEP）的\\n个人提供综合性的语言协助服务。在 2014 年 4 月 7 日达成的书面协议中，本部告知新泽\\n西司法机关，它正终结法院用户投诉新泽西州两个郡没有完整的 LEP 个人服务之后所展\\n开的审查。本部根据 1964 年民权法案第六篇展开了该项调查，该篇禁止使联邦援助的受\\n助人因国籍而受到歧视，并要求给那些受助人提供富有意义的 LEP 个人服务的途径。\\n本部与新泽西州司法机关之间的决议信件, 概述了新泽西州司法机关为了回应联邦审查过\\n程中提出的问题所实施的行动和举措, 以及他们为了确保在整个法院系统持续地提供综合\\n性的语言协助而将作出的努力。在其它事项中，这些举措包括给诉讼当事人的口译服务、\\n在法院里的多语种标识牌、协助 LEP 客户进行交易业务的服务，如双语自助服务亭和视\\n频教程、340 多种全州表格和宣传册的翻译、翻译过的通知书、在情况紧急和时间敏感情\\n形下的视译，以及在当地拉丁裔社区广泛阅读的出版物中广告这些服务。新泽西州的司法\\n机关也在全州范围内对其上达法院之途径和临时拘留所是否有口译服务进行审查，以确保\\n所有的 LEP 个人都有富有意义上达法院之途径。'"
      ]
     },
     "execution_count": 12,
     "metadata": {},
     "output_type": "execute_result"
    }
   ],
   "source": [
    "data"
   ]
  },
  {
   "cell_type": "code",
   "execution_count": 13,
   "id": "dedb7a85-f2a8-4870-b8f4-6ea75eefc66d",
   "metadata": {},
   "outputs": [],
   "source": [
    "seg_list=jieba.cut(data,cut_all=True)"
   ]
  },
  {
   "cell_type": "code",
   "execution_count": 14,
   "id": "31e91e1e-aca7-4fc2-91ea-58ed91107ae9",
   "metadata": {},
   "outputs": [
    {
     "data": {
      "text/plain": [
       "<generator object Tokenizer.cut at 0x788e14d80f60>"
      ]
     },
     "execution_count": 14,
     "metadata": {},
     "output_type": "execute_result"
    }
   ],
   "source": [
    "seg_list"
   ]
  },
  {
   "cell_type": "code",
   "execution_count": 15,
   "id": "6b412802-bd3e-45f3-9cbf-e4d771256ed6",
   "metadata": {},
   "outputs": [
    {
     "name": "stderr",
     "output_type": "stream",
     "text": [
      "Building prefix dict from the default dictionary ...\n",
      "Loading model from cache /tmp/jieba.cache\n",
      "Loading model cost 1.019 seconds.\n",
      "Prefix dict has been built successfully.\n"
     ]
    }
   ],
   "source": [
    "new_text=(\" \".join(seg_list))"
   ]
  },
  {
   "cell_type": "code",
   "execution_count": 16,
   "id": "3e781ea6-063c-4988-9202-4babef2c1795",
   "metadata": {},
   "outputs": [
    {
     "data": {
      "text/plain": [
       "'美国 美国司法部 司法 司法部 法部 今天 宣布 ， 它 已经 与 新泽西 新泽西州 泽西 西州 司法 司法机关 机关 达成 达成协议 协议 ， 给 英语 能力 有限 （ LEP ） 的  \\n  个人 提供 综合 综合性 合性 的 语言 协助 服务 。 在     2014     年     4     月     7     日 达成 的 书面 协议 中 ， 本部 告知 新 泽  \\n  西 司法 司法机关 机关 ， 它 正 终结 结法 法院 用户 投诉 新泽西 新泽西州 泽西 西州 两个 郡 没有 完整 的     LEP     个人 服务 之后 所 展  \\n  开 的 审查 。 本部 根据     1964     年 民权 法案 第六 第六篇 六篇 展开 了 该项 调查 ， 该 篇 禁止 使 联邦 援助 的 受  \\n  助人 因 国籍 而 受到 歧视 ， 并要 要求 给 那些 受助 助人 提供 富有 有意 意义 的     LEP     个人 服务 的 途径 。 \\n  本部 与 新泽西 新泽西州 泽西 西州 司法 司法机关 机关 之间 的 决议 信件 ,    概述 了 新泽西 新泽西州 泽西 西州 司法 司法机关 机关 为了 回应 联邦 审查 查过  \\n  程 中 提出 的 问题 所 实施 的 行动 和 举措 ,    以及 他们 为了 确保 在 整个 法院 法院系统 院系 系统 持续 地 提供 综合  \\n  性 的 语言 协助 而 将 作出 的 努力 。 在 其它 事项 中 ， 这些 举措 包括 给 诉讼 当事 当事人 的 口译 服务 、 \\n  在 法院 院里 的 多语种 语种 标识 标识牌 、 协助     LEP     客户 进行 交易 业务 的 服务 ， 如 双语 自助 服务 亭 和 视  \\n  频 教程 、 340     多种 全州 表格 和 宣传 宣传册 的 翻译 、 翻译 过 的 通知 通知书 、 在 情况 情况紧急 紧急 和 时间 敏感 感情  \\n  形 下 的 视 译 ， 以及 在 当地 地拉 拉丁 裔 社区 广泛 泛阅 阅读 的 出版 出版物 中广 广告 这些 服务 。 新泽西 新泽西州 泽西 西州 的 司法  \\n  机关 也 在 全州 范围 内 对 其 上达 法院 之 途径 和 临时 拘留 拘留所 所是 是否 有 口译 服务 进行 审查 ， 以 确保  \\n  所有 的     LEP     个人 都 有 富有 有意 意义 上达 法院 之 途径 。'"
      ]
     },
     "execution_count": 16,
     "metadata": {},
     "output_type": "execute_result"
    }
   ],
   "source": [
    "new_text"
   ]
  },
  {
   "cell_type": "code",
   "execution_count": 17,
   "id": "70d85137-3dba-4563-abac-f555efa7ab0a",
   "metadata": {},
   "outputs": [],
   "source": [
    "f=open('chineseSegmented3.txt','wb')\n",
    "f.write(new_text.encode('utf8'))\n",
    "f.close()"
   ]
  },
  {
   "cell_type": "code",
   "execution_count": 18,
   "id": "79ef082f-f7a8-4f53-8a42-34a2a1a50724",
   "metadata": {},
   "outputs": [
    {
     "data": {
      "text/plain": [
       "'美国 美国司法部 司法 司法部 法部 今天 宣布 ， 它 已经 与 新泽西 新泽西州 泽西 西州 司法 司法机关 机关 达成 达成协议 协议 ， 给 英语 能力 有限 （ LEP ） 的  \\n  个人 提供 综合 综合性 合性 的 语言 协助 服务 。 在     2014     年     4     月     7     日 达成 的 书面 协议 中 ， 本部 告知 新 泽  \\n  西 司法 司法机关 机关 ， 它 正 终结 结法 法院 用户 投诉 新泽西 新泽西州 泽西 西州 两个 郡 没有 完整 的     LEP     个人 服务 之后 所 展  \\n  开 的 审查 。 本部 根据     1964     年 民权 法案 第六 第六篇 六篇 展开 了 该项 调查 ， 该 篇 禁止 使 联邦 援助 的 受  \\n  助人 因 国籍 而 受到 歧视 ， 并要 要求 给 那些 受助 助人 提供 富有 有意 意义 的     LEP     个人 服务 的 途径 。 \\n  本部 与 新泽西 新泽西州 泽西 西州 司法 司法机关 机关 之间 的 决议 信件 ,    概述 了 新泽西 新泽西州 泽西 西州 司法 司法机关 机关 为了 回应 联邦 审查 查过  \\n  程 中 提出 的 问题 所 实施 的 行动 和 举措 ,    以及 他们 为了 确保 在 整个 法院 法院系统 院系 系统 持续 地 提供 综合  \\n  性 的 语言 协助 而 将 作出 的 努力 。 在 其它 事项 中 ， 这些 举措 包括 给 诉讼 当事 当事人 的 口译 服务 、 \\n  在 法院 院里 的 多语种 语种 标识 标识牌 、 协助     LEP     客户 进行 交易 业务 的 服务 ， 如 双语 自助 服务 亭 和 视  \\n  频 教程 、 340     多种 全州 表格 和 宣传 宣传册 的 翻译 、 翻译 过 的 通知 通知书 、 在 情况 情况紧急 紧急 和 时间 敏感 感情  \\n  形 下 的 视 译 ， 以及 在 当地 地拉 拉丁 裔 社区 广泛 泛阅 阅读 的 出版 出版物 中广 广告 这些 服务 。 新泽西 新泽西州 泽西 西州 的 司法  \\n  机关 也 在 全州 范围 内 对 其 上达 法院 之 途径 和 临时 拘留 拘留所 所是 是否 有 口译 服务 进行 审查 ， 以 确保  \\n  所有 的     LEP     个人 都 有 富有 有意 意义 上达 法院 之 途径 。'"
      ]
     },
     "execution_count": 18,
     "metadata": {},
     "output_type": "execute_result"
    }
   ],
   "source": [
    "new_text"
   ]
  },
  {
   "cell_type": "code",
   "execution_count": 19,
   "id": "3c141e4a-6514-4d83-8fcb-309e9179c7f7",
   "metadata": {},
   "outputs": [
    {
     "name": "stderr",
     "output_type": "stream",
     "text": [
      "[nltk_data] Downloading package punkt to /home/matlab/nltk_data...\n",
      "[nltk_data]   Package punkt is already up-to-date!\n"
     ]
    }
   ],
   "source": [
    "import nltk\n",
    "nltk.download('punkt')\n",
    "def tokenize(token):\n",
    "    return nltk.word_tokenize(token);\n",
    "tokenize(\"why is this not working?\");"
   ]
  },
  {
   "cell_type": "code",
   "execution_count": 20,
   "id": "2ee369ac-dc7e-43f2-96ae-d90e6fe3175a",
   "metadata": {},
   "outputs": [],
   "source": [
    "from urllib import request"
   ]
  },
  {
   "cell_type": "code",
   "execution_count": 21,
   "id": "582048e4-b086-49bb-ad04-c781519dfb78",
   "metadata": {},
   "outputs": [],
   "source": [
    "url=\"https://www.gutenberg.org/cache/epub/76502/pg76502.txt\""
   ]
  },
  {
   "cell_type": "code",
   "execution_count": 22,
   "id": "b7dc8ca7-2ac4-431a-adea-2e5855d7caf4",
   "metadata": {},
   "outputs": [],
   "source": [
    "response = request.urlopen(url)"
   ]
  },
  {
   "cell_type": "code",
   "execution_count": 23,
   "id": "2e7b3599-d431-47d4-9280-193e905f5795",
   "metadata": {},
   "outputs": [],
   "source": [
    "raw=response.read().decode('utf8')"
   ]
  },
  {
   "cell_type": "code",
   "execution_count": 24,
   "id": "b57511bd-1e73-49c5-8086-38eae377b9c1",
   "metadata": {},
   "outputs": [],
   "source": [
    "import nltk \n",
    "from nltk.tokenize import word_tokenize \n",
    "url=\"https://www.gutenberg.org/cache/epub/76502/pg76502.txt\"\n",
    "response = request.urlopen(url)\n",
    "raw=response.read().decode('utf8')\n",
    "tokens= word_tokenize(raw)"
   ]
  },
  {
   "cell_type": "code",
   "execution_count": 26,
   "id": "d99b2543-facd-4065-93f3-87863bd5c285",
   "metadata": {},
   "outputs": [
    {
     "name": "stdout",
     "output_type": "stream",
     "text": [
      "['\\ufeffThe', 'Project', 'Gutenberg', 'eBook', 'of', 'The', 'lady', \"'s\", 'mile', 'This', 'ebook', 'is', 'for', 'the', 'use', 'of', 'anyone', 'anywhere', 'in', 'the', 'United', 'States', 'and', 'most', 'other', 'parts', 'of', 'the', 'world', 'at', 'no', 'cost', 'and', 'with', 'almost', 'no', 'restrictions', 'whatsoever', '.', 'You', 'may', 'copy', 'it', ',', 'give', 'it', 'away', 'or', 're-use', 'it', 'under', 'the', 'terms', 'of', 'the', 'Project', 'Gutenberg', 'License', 'included', 'with', 'this', 'ebook', 'or', 'online', 'at', 'www.gutenberg.org', '.', 'If', 'you', 'are', 'not', 'located', 'in', 'the', 'United', 'States', ',', 'you', 'will', 'have', 'to', 'check', 'the', 'laws', 'of', 'the', 'country', 'where', 'you', 'are', 'located', 'before', 'using', 'this', 'eBook', '.', 'Title', ':', 'The', 'lady', \"'s\", 'mile', 'Author', ':', 'M.', 'E.', 'Braddon', 'Release', 'date', ':', 'July', '14', ',', '2025', '[', 'eBook', '#', '76502', ']', 'Language', ':', 'English', 'Original', 'publication', ':', 'London', ':', 'John', 'and', 'Robert', 'Maxwell', ',', '1870', 'Credits', ':', 'Peter', 'Becker', ',', 'Mary', 'Meehan', 'and', 'the', 'Online', 'Distributed', 'Proofreading', 'Team', 'at', 'https', ':', '//www.pgdp.net', '(', 'This', 'file', 'was', 'produced', 'from', 'images', 'generously', 'made', 'available', 'by', 'The', 'Internet', 'Archive', ')', '*', '*', '*', 'START', 'OF', 'THE', 'PROJECT', 'GUTENBERG', 'EBOOK', 'THE', 'LADY', \"'S\", 'MILE', '*', '*', '*', 'THE', 'LADY', \"'S\", 'MILE', 'A', 'Novel', 'BY', 'THE', 'AUTHOR', 'OF', '``', 'LADY', 'AUDLEY', \"'S\", 'SECRET', ',', \"''\", '``', 'AURORA', 'FLOYD', \"''\", 'ETC', '.', 'ETC', '.', 'ETC', '.', 'Stereotyped', 'Edition', 'LONDON', 'JOHN', 'AND', 'ROBERT', 'MAXWELL', 'MILTON', 'HOUSE', ',', 'SHOE', 'LANE', ',', 'FLEET', 'STREET', '[', '_All', 'rights', 'reserved_', ']', 'CONTENTS', '.', 'I', '.', '``', 'HE', 'IS', 'BUT', 'A', 'LANDSCAPE-PAINTER', \"''\", 'II', '.', 'LORD', 'ASPENDELL', \"'S\", 'DAUGHTER', 'III', '.', 'HECTOR', 'IV', '.', 'LOVE', 'AND', 'DUTY', 'V.', 'AT', 'THE', 'FOUNTAINS', 'VI', '.', 'WEDDING', 'CARDS', 'VII', '.', 'THE', 'GREAT', \"O'BOYNEVILLE\", 'VIII', '.', 'THE', 'DOWAGER', \"'S\", 'LITTLE', 'DINNER', 'IX', '.', 'LAURENCE', \"O'BOYNEVILLE\", \"'S\", 'FIRST', 'HEARING', 'X', '.', 'THE', 'RICH', 'MR.', 'LOBYER', 'XI', '.', 'AT', 'NASEDALE', 'XII', '.', 'MR.', \"O'BOYNEVILLE\", \"'S\", 'MOTION', 'FOR', 'A', 'NEW', 'TRIAL', 'XIII', '.', 'CECIL', \"'S\", 'HONEYMOON', 'XIV', '.', 'MR.', 'LOBYER', \"'S\", 'WOOING', 'XV', '.', 'DELILAH', 'XVI', '.', 'AT', 'HOME', 'IN', 'BLOOMSBURY', 'XVII', '.', 'POOR', 'PHILIP', 'XVIII', '.', 'TOO', 'LATE', 'FOR', 'REPENTANCE', 'XIX', '.', 'THINGS', 'FROM', 'INDIA', 'XX', '.', 'AT', 'PEVENSHALL', 'PLACE', 'XXI', '.', 'SIR', 'NUGENT', 'EVERSHED', 'XXII', '.', 'MRS.', 'LOBYER', \"'S\", 'SKELETON', 'XXIII', '.', '``', 'HOW', 'SHOULD', 'I', 'GREET', 'THEE', '?', \"''\", 'XXIV', '.', 'BETWEEN', 'CARTHAGE', 'AND', 'KENSINGTON', 'XXV', '.', 'THE', 'EASY', 'DESCENT', 'XXVI', '.', 'A', 'MODERN', 'LOVE-CHASE', 'XXVII', '.', '``', 'HE', 'COMES', 'TOO', 'NEAR', ',', 'WHO', 'COMES', 'TO', 'BE', 'DENIED', \"''\", 'XXVIII', '.', '``', 'WERE', 'ALL', 'THY', 'LETTERS', 'SUNS', ',', 'I', 'COULD', 'NOT', 'SEE', \"''\", 'XXIX', '.', 'A', 'TIMELY', 'WARNING', 'XXX', '.', '``', 'HE', \"'S\", 'SWEETEST', 'FRIEND', ',', 'OR', 'HARDEST', 'FOE', \"''\", 'XXXI', '.', 'ON', 'THE', 'BRINK', 'XXXII', '.', 'BY', 'THE', 'SEA', 'XXXIII', '.', 'A', 'COMMERCIAL', 'EARTHQUAKE', 'THE', 'EPILOGUE', 'THE', 'LADY', \"'S\", 'MILE', '.', 'CHAPTER', 'I', '.', '``', 'HE', 'IS', 'BUT', 'A', 'LANDSCAPE-PAINTER', '.', \"''\", 'It', 'was', 'high', 'tide', '--', 'spring', 'tide', ',', 'if', 'you', 'will', '--', 'at', 'half', 'past-six', \"o'clock\", 'on', 'a', 'warm', 'June', 'evening', ':', 'not', 'the', 'commonplace', 'ebb', 'and', 'flow', 'of', 'a', 'vulgar', 'river', ';', 'but', 'the', 'mighty', 'tide', 'of', 'fashion', \"'s\", 'wonderful', 'sea', ',', 'surging', 'westward']\n"
     ]
    }
   ],
   "source": [
    "print(tokens[:500])"
   ]
  },
  {
   "cell_type": "code",
   "execution_count": null,
   "id": "f45e9c79-eeea-47b2-aebb-fe86c1f081ff",
   "metadata": {},
   "outputs": [],
   "source": []
  }
 ],
 "metadata": {
  "kernelspec": {
   "display_name": "Python 3 (ipykernel)",
   "language": "python",
   "name": "python3"
  },
  "language_info": {
   "codemirror_mode": {
    "name": "ipython",
    "version": 3
   },
   "file_extension": ".py",
   "mimetype": "text/x-python",
   "name": "python",
   "nbconvert_exporter": "python",
   "pygments_lexer": "ipython3",
   "version": "3.12.4"
  }
 },
 "nbformat": 4,
 "nbformat_minor": 5
}
